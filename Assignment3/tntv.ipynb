{
 "cells": [
  {
   "cell_type": "code",
   "execution_count": null,
   "metadata": {},
   "outputs": [],
   "source": [
    "import matplotlib.pyplot as plt\n",
    "%matplotlib inline\n",
    "\n",
    "from dolfin import *\n",
    "import math\n",
    "import numpy as np\n",
    "import logging\n",
    "from unconstrainedMinimization import InexactNewtonCG\n",
    "\n",
    "logging.getLogger('FFC').setLevel(logging.WARNING)\n",
    "logging.getLogger('UFL').setLevel(logging.WARNING)\n",
    "set_log_active(False)\n",
    "\n",
    "\n",
    "# Set the level of noise:\n",
    "noise_std_dev = .3\n",
    "\n",
    "# Load the image from file\n",
    "data = np.loadtxt('image.dat', delimiter=',')\n",
    "np.random.seed(seed=1)\n",
    "noise = noise_std_dev*np.random.randn(data.shape[0], data.shape[1])\n",
    "\n",
    "# Set up the domain and the finite element space.\n",
    "Lx = float(data.shape[1])/float(data.shape[0])\n",
    "Ly = 1.\n",
    "\n",
    "mesh = RectangleMesh(Point(0,0),Point(Lx,Ly),200, 100)\n",
    "V = FunctionSpace(mesh, \"Lagrange\",1)\n",
    "\n",
    "# Generate the true image (u_true) and the noisy data (u_0)\n",
    "class Image(Expression):\n",
    "    def __init__(self, Lx, Ly, data, **kwargs):\n",
    "        self.data = data\n",
    "        self.hx = Lx/float(data.shape[1]-1)\n",
    "        self.hy = Ly/float(data.shape[0]-1)\n",
    "        \n",
    "    def eval(self, values, x):\n",
    "        j = int(math.floor(x[0]/self.hx))\n",
    "        i = int(math.floor(x[1]/self.hy))\n",
    "        values[0] = self.data[i,j]\n",
    "\n",
    "trueImage = Image(Lx,Ly,data, degree=1)\n",
    "noisyImage = Image(Lx,Ly,data+noise, degree=1)\n",
    "u_true  = interpolate(trueImage, V)\n",
    "u_0 = interpolate(noisyImage, V)\n",
    "\n",
    "plt.figure(figsize=[12,24])\n",
    "plt.subplot(1,2,1)\n",
    "plot(u_true, title=\"True Image\")\n",
    "plt.subplot(1,2,2)\n",
    "plot(u_0, title=\"Noisy Image\")\n",
    "plt.show()\n"
   ]
  },
  {
   "cell_type": "markdown",
   "metadata": {},
   "source": [
    "Copyright (c) 2016, The University of Texas at Austin & University of California, Merced.\n",
    "\n",
    "All Rights reserved.\n",
    "See file COPYRIGHT for details.\n",
    "\n",
    "This file is part of the hIPPYlib library. For more information and source code availability see https://hippylib.github.io.\n",
    "\n",
    "hIPPYlib is free software; you can redistribute it and/or modify it under the terms of the GNU General Public License (as published by the Free Software Foundation) version 2.0 dated June 1991."
   ]
  }
 ],
 "metadata": {
  "kernelspec": {
   "display_name": "Python 2",
   "language": "python",
   "name": "python2"
  },
  "language_info": {
   "codemirror_mode": {
    "name": "ipython",
    "version": 2
   },
   "file_extension": ".py",
   "mimetype": "text/x-python",
   "name": "python",
   "nbconvert_exporter": "python",
   "pygments_lexer": "ipython2",
   "version": "2.7.12"
  }
 },
 "nbformat": 4,
 "nbformat_minor": 2
}
