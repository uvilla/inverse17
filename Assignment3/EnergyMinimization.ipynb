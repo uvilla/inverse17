{
 "cells": [
  {
   "cell_type": "code",
   "execution_count": null,
   "metadata": {},
   "outputs": [],
   "source": [
    "# Initialization\n",
    "import matplotlib.pyplot as plt\n",
    "%matplotlib inline\n",
    "\n",
    "from dolfin import *\n",
    "import math\n",
    "import numpy as np\n",
    "import logging\n",
    "from unconstrainedMinimization import InexactNewtonCG\n",
    "\n",
    "logging.getLogger('FFC').setLevel(logging.WARNING)\n",
    "logging.getLogger('UFL').setLevel(logging.WARNING)\n",
    "set_log_active(False)\n",
    "\n",
    "# Generate mesh for the unit circle domain.\n",
    "import mshr\n",
    "mesh = mshr.generate_mesh(mshr.Circle(Point(0.,0.), 1.), 40)\n",
    "\n",
    "# Define the finite element space\n",
    "Vh = FunctionSpace(mesh, \"Lagrange\", 2)\n",
    "\n",
    "u = Function(Vh)\n",
    "u_hat = TestFunction(Vh)\n",
    "u_tilde = TrialFunction(Vh)\n",
    "\n",
    "# Define the energy functional\n",
    "f = Expression(\"100*exp(-100*(x[0]*x[0] + x[1]*x[1]))\",degree=5)\n",
    "beta = Constant(100)\n",
    "k1 = Constant(.1)\n",
    "k2 = Constant(1.)\n",
    "\n",
    "E = Constant(.5)*beta*u*u*ds + \\\n",
    "    Constant(.5)*(k1 + k2*u*u)*inner(nabla_grad(u), nabla_grad(u))*dx - \\\n",
    "    f*u*dx\n",
    "\n",
    "grad = beta*u*u_hat*ds + (k2*u*u_hat)*inner(nabla_grad(u), nabla_grad(u))*dx + \\\n",
    "       (k1 + k2*u*u)*inner(nabla_grad(u), nabla_grad(u_hat))*dx - f*u_hat*dx\n",
    "\n",
    "H = beta*u_tilde*u_hat*ds + \\\n",
    "    k2*u_tilde*u_hat*inner(nabla_grad(u), nabla_grad(u))*dx + \\\n",
    "    Constant(2.)*(k2*u*u_hat)*inner(nabla_grad(u_tilde), nabla_grad(u))*dx + \\\n",
    "    Constant(2.)*k2*u_tilde*u*inner(nabla_grad(u), nabla_grad(u_hat))*dx + \\\n",
    "    (k1 + k2*u*u)*inner(nabla_grad(u_tilde), nabla_grad(u_hat))*dx\n",
    "    \n",
    "    \n",
    "solver = InexactNewtonCG()\n",
    "solver.parameters[\"rel_tolerance\"] = 1e-6\n",
    "solver.parameters[\"abs_tolerance\"] = 1e-9\n",
    "solver.parameters[\"gdu_tolerance\"] = 1e-18\n",
    "solver.parameters[\"max_iter\"] = 1000\n",
    "solver.parameters[\"c_armijo\"] = 1e-5\n",
    "solver.parameters[\"print_level\"] = 1\n",
    "solver.parameters[\"max_backtracking_iter\"] = 10\n",
    "\n",
    "solver.solve(E, u, grad, H)\n",
    "\n",
    "plot(u)\n",
    "plt.show()"
   ]
  },
  {
   "cell_type": "markdown",
   "metadata": {},
   "source": [
    "Copyright (c) 2016, The University of Texas at Austin & University of California, Merced.\n",
    "\n",
    "All Rights reserved.\n",
    "See file COPYRIGHT for details.\n",
    "\n",
    "This file is part of the hIPPYlib library. For more information and source code availability see https://hippylib.github.io.\n",
    "\n",
    "hIPPYlib is free software; you can redistribute it and/or modify it under the terms of the GNU General Public License (as published by the Free Software Foundation) version 2.0 dated June 1991."
   ]
  },
  {
   "cell_type": "code",
   "execution_count": null,
   "metadata": {
    "collapsed": true
   },
   "outputs": [],
   "source": []
  }
 ],
 "metadata": {
  "kernelspec": {
   "display_name": "Python 2",
   "language": "python",
   "name": "python2"
  },
  "language_info": {
   "codemirror_mode": {
    "name": "ipython",
    "version": 2
   },
   "file_extension": ".py",
   "mimetype": "text/x-python",
   "name": "python",
   "nbconvert_exporter": "python",
   "pygments_lexer": "ipython2",
   "version": "2.7.12"
  }
 },
 "nbformat": 4,
 "nbformat_minor": 2
}
