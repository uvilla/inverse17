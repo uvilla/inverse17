{
 "cells": [
  {
   "cell_type": "markdown",
   "metadata": {},
   "source": [
    "# Poisson equation in 1D\n",
    "\n",
    "In this tutorial, we show how to solve the Poisson equation in 1D\n",
    "\n",
    "$$ - \\frac{\\partial^2 u}{\\partial^2 x} = f(x)  \\quad \\forall x \\in (0,1), $$\n",
    "\n",
    "using different types of boundary conditions."
   ]
  },
  {
   "cell_type": "markdown",
   "metadata": {},
   "source": [
    "## Homogeneus Dirichlet boundary conditions\n",
    "\n",
    "Consider\n",
    "\n",
    "$$ - \\frac{\\partial^2 u}{\\partial^2 x} = f(x)  \\quad \\forall x \\in (0,1), $$\n",
    "\n",
    "with homegeneuos Dirichlet boundary conditions $u(0) = u(1) = 0$.\n",
    "\n",
    "To obtain the weak form, we let $\\Omega = (0,1)$ and we define the functional space $V = H^1_0(\\Omega)$.\n",
    "Then we multiply the strong form by an arbitrary function $v \\in V$ and integrate over $\\Omega$:\n",
    "\n",
    "$$ - \\int_0^1 \\frac{\\partial^2 u}{\\partial^2 x} v \\, dx = \\int_0^1 f\\,v \\, dx, \\quad \\forall v \\in V $$\n",
    "\n",
    "Integration by parts of the non-conforming term gives\n",
    "\n",
    "$$ - \\int_0^1 \\frac{\\partial^2 u}{\\partial^2 x} v \\, dx = \\int_0^1 \\frac{\\partial u}{\\partial x} \\frac{\\partial v}{\\partial x} \\, dx - \\left( \\left.\\frac{\\partial u}{\\partial x}\\right|_{x=1}\\, v(1) - \\left.\\frac{\\partial u}{\\partial x}\\right|_{x=0}\\,v(0) \\right). $$\n",
    "\n",
    "Recalling that $v(1) = v(0) = 0$ because of the Dirichlet boundary conditions, we finally write\n",
    "\n",
    "$$ \\int_0^1 \\frac{\\partial u}{\\partial x} \\frac{\\partial v}{\\partial x} \\, dx = \\int_0^1 f\\,v \\, dx, \\quad \\forall v \\in V. $$\n",
    "\n",
    "To obtain the finite element discretization we then consider a finite dimensional subspace $V_h \\subset V$ and we find $u_h \\in V_h$ such that\n",
    "\n",
    "$$ \\int_0^1 \\frac{\\partial u_h}{\\partial x} \\frac{\\partial v_h}{\\partial x} \\, dx = \\int_0^1 f\\,v_h \\, dx, \\quad \\forall v_h \\in V_h. $$\n",
    "\n",
    "Below we solve the problem using FEniCS for the choice $f(x) = \\sin(\\pi x)$. The analytical solution is $u_{ex} = \\frac{1}{\\pi^2} \\sin(\\pi x)$.\n",
    "\n",
    "### 1. Imports\n",
    "We import the following Python packages:\n",
    "\n",
    "- `dolfin` is the python interface to FEniCS.\n",
    "- `matplotlib` is a plotting library that produces figure similar to the Matlab ones.\n",
    "- `math` is the python built-in library of mathematical functions."
   ]
  },
  {
   "cell_type": "code",
   "execution_count": null,
   "metadata": {
    "collapsed": true
   },
   "outputs": [],
   "source": [
    "# Enable plotting inside the notebook\n",
    "%matplotlib inline\n",
    "import matplotlib.pyplot as plt\n",
    "\n",
    "# Import FEniCS\n",
    "from dolfin import *\n",
    "# Import the package of mathematical functions\n",
    "import math\n",
    "\n",
    "import logging\n",
    "logging.getLogger('FFC').setLevel(logging.WARNING)\n",
    "logging.getLogger('UFL').setLevel(logging.WARNING)\n",
    "set_log_active(False)"
   ]
  },
  {
   "cell_type": "markdown",
   "metadata": {},
   "source": [
    "### 2. Define the mesh and the finite element space\n",
    "We define a mesh of the domain $(0,1)$ with `n` elements and `n+1` vertices. The mesh size $h$ is $\\frac{1}{n}$.\n",
    "`UnitIntervalMesh` is a dolfin class that create a mesh for the unit interval. It takes as input the number of elements $n$.\n",
    "\n",
    "We also define the finite element space $V_h$ as the space of globally continuos functions that are piecewise linear  on the elements of the mesh. The number of degrees of freedom (dofs) of the space $V_h$ is $n+1$ (i.e. equal to the number of vertices in the mesh).\n",
    "`FunctionSpace` is a dolfin class that constructs the finite element space. It takes as inputs the mesh, the type of finite element (`CG` stands for *Continuous Galerkin* elements), and the finite element order (in our case $1$, since we are using linear finite element)."
   ]
  },
  {
   "cell_type": "code",
   "execution_count": null,
   "metadata": {
    "collapsed": true
   },
   "outputs": [],
   "source": [
    "# Define the finite element mesh. The mesh size h is 1/n\n",
    "n = 40\n",
    "mesh = UnitIntervalMesh(n)\n",
    "\n",
    "plot(mesh)\n",
    "\n",
    "# Define the finite element space V_h as the space of piecewise linear functions on the elements of the mesh.\n",
    "Vh = FunctionSpace(mesh, 'CG', 1)\n",
    "print \"Number of dofs\", Vh.dim()"
   ]
  },
  {
   "cell_type": "markdown",
   "metadata": {},
   "source": [
    "### 3. Define the right hand side f\n",
    "We define the right hand side of the PDE using the dolfin class `Expression`. This class takes as input a string that define the analytical form of the expression and the polynomial degree `degree` of the expression (if the expression is not a polynomial it will be interpolated). Here `x[0]` denotes the x coordinate of the mesh. In 2D, `x[1]` denotes the y coordinate of the mesh. Additional parameters can be passed to the expression. In this case we define the frequency $\\omega = \\pi$ as a parameter for the expression."
   ]
  },
  {
   "cell_type": "code",
   "execution_count": null,
   "metadata": {
    "collapsed": true
   },
   "outputs": [],
   "source": [
    "# Define the right hand side. \"x[0]\" denotes the space coordinate x.\n",
    "f = Expression(\"sin(omega*x[0])\", omega = pi, degree = 5)\n",
    "\n",
    "#visualize the rhs:\n",
    "plot(f,mesh=mesh, title=\"rhs\")"
   ]
  },
  {
   "cell_type": "markdown",
   "metadata": {},
   "source": [
    "### 4. Define the Dirichlet boundary condition\n",
    "We define the Dirichlet boundary condition on the $u(0) = u(1) = 0$.\n",
    "The class `Constant` is similar `Expression` and it is used when we need to represent a value that is *constant* in space. As input it takes the value of the constant.\n",
    "`DirichletBC` is the dolfin class that is used to describe Dirichlet boundary conditions. It takes three inputs: the finite element space $V_h$, the expression/value of the Dirichlet boundary condition `u_bc`, and finally a *function* that returns true if the point `x` belongs to a portion of the Dirichlet boundary."
   ]
  },
  {
   "cell_type": "code",
   "execution_count": null,
   "metadata": {
    "collapsed": true
   },
   "outputs": [],
   "source": [
    "u_bc = Constant(0.)\n",
    "def dirichlet_boundary(x,on_boundary):\n",
    "    return on_boundary\n",
    "bcs = [DirichletBC(Vh, u_bc, dirichlet_boundary)]"
   ]
  },
  {
   "cell_type": "markdown",
   "metadata": {},
   "source": [
    "### 5. Define the weak form\n",
    "We now write the weak form of the Poisson equation:\n",
    "\n",
    "- `uh`, the *trial* function, is an instance of the dolfin class `TrialFunction`\n",
    "- `vh`, the *test* function, is an instance of the dolfin class `TestFunction`\n",
    "- `grad` is the gradient operator acting on either a trial or test function. (In 1D $\\operatorname{grad} := \\frac{d}{dx}$).\n",
    "- `inner` is the product of two scalar, vector, or tensor functions\n",
    "- `dx` denotes that the integration is performed on the whole domain. `ds` (see next example) denotes that the integration is on the boundary of the domain.\n",
    "\n",
    "**Note**: the `TrialFunction` and `TestFunction` are special objects used by FEniCS to represent a weak form. `uh` does **not** contains the vector of interpolation weights of the solution.\n"
   ]
  },
  {
   "cell_type": "code",
   "execution_count": null,
   "metadata": {
    "collapsed": true
   },
   "outputs": [],
   "source": [
    "# Define the trial function u and the test function v\n",
    "uh = TrialFunction(Vh)\n",
    "vh = TestFunction(Vh)\n",
    "\n",
    "# Define the weak form for the stiffness matrix (A_form) and for the rhs (b_form):\n",
    "A_form = inner(grad(uh), grad(vh))*dx\n",
    "b_form = inner(f,vh)*dx"
   ]
  },
  {
   "cell_type": "markdown",
   "metadata": {},
   "source": [
    "### 6. Assemble and solve the finite element discrete problem\n",
    "We now assemble the finite element stiffness matrix $A$ and the right hand side vector $b$ using the dolfin method `assemble_system`. `assemble_system` takes the following inputs: the bilinear form `A_form`, the linear form `b_form`, and a list of Dirichlet boundary conditions `bcs`. This method will automatically generate and compile efficient c++ code to perform the local assembly on each element of the mesh, and it returns the assembled global matrices after applying the Dirichlet boundary conditions.\n",
    "\n",
    "We now define the finite element function `uh = Function(Vh)` that represents the solution of the PDE. The interpolation weights are stored in `uh.vector()`. We use the `solve(A,u,b)` command to solve the linear system $Au = b$."
   ]
  },
  {
   "cell_type": "code",
   "execution_count": null,
   "metadata": {
    "collapsed": true
   },
   "outputs": [],
   "source": [
    "# Assemble the stiffness matrix A and rhs b. Apply the boundary conditions\n",
    "A, b = assemble_system(A_form, b_form, bcs)\n",
    "\n",
    "# Solve the linear system and visualize the solution\n",
    "uh = Function(Vh)\n",
    "solve(A, uh.vector(), b)\n",
    "plt.figure()\n",
    "plot(uh, title = \"Solution\")"
   ]
  },
  {
   "cell_type": "markdown",
   "metadata": {},
   "source": [
    "### 7. Compute error norms\n",
    "We then compute the $L^2(\\Omega)$ and energy norm of the error.\n",
    "We use the dolfin function `assemble` to integrate $|u_h - u_{ex}|^2$ and $\\left|\\frac{d u_h}{dx} - \\frac{d u_{ex}}{dx}\\right|^2$\n",
    "in the domain $\\Omega$."
   ]
  },
  {
   "cell_type": "code",
   "execution_count": null,
   "metadata": {
    "collapsed": true
   },
   "outputs": [],
   "source": [
    "# Compute the L^2 norm of the error\n",
    "u_ex = Expression(\"(1./(omega*omega))*sin(omega*x[0])\", omega = pi, degree = 5)\n",
    "err_L2 = math.sqrt( assemble((uh-u_ex)**2*dx) ) \n",
    "\n",
    "print \"|| u_h - u_ex ||_L^2 = {0:5e}\".format(err_L2)\n",
    "\n",
    "# Compute the energy norm of the error\n",
    "grad_u_ex = Expression( \"(1./(omega))*cos(omega*x[0])\" , omega = pi, degree = 5)\n",
    "err_energy = math.sqrt( assemble((grad(uh)[0]-grad_u_ex)**2*dx) )\n",
    "\n",
    "print \"|| u_h - u_ex ||_e = {0:5e}\".format(err_energy)"
   ]
  },
  {
   "cell_type": "markdown",
   "metadata": {},
   "source": [
    "## Mixed Dirichlet and Neumann boundary conditions\n",
    "\n",
    "Consider\n",
    "\n",
    "$$ - \\frac{\\partial^2 u}{\\partial^2 x} = f(x) \\quad \\forall x \\in (0,1), $$\n",
    "with boundary conditions:\n",
    "$$\n",
    "u(0) = 0, \\quad \\left.\\frac{\\partial u}{\\partial x}\\right|_{x=1} = g\n",
    "$$\n",
    "\n",
    "To obtain the weak form, we let $\\Omega = (0,1)$ and we define the functional space\n",
    "$V = \\left\\{ v \\in H^1(\\Omega) | v(0) = 0 \\right\\}$.\n",
    "Then we multiply the strong form by an arbitrary function $v \\in V$ and integrate over $\\Omega$:\n",
    "\n",
    "$$ - \\int_0^1 \\frac{\\partial^2 u}{\\partial^2 x} v \\, dx = \\int_0^1 f\\,v \\, dx, \\quad \\forall v \\in V $$\n",
    "\n",
    "Integration by parts of the non-conforming term gives\n",
    "\n",
    "$$ - \\int_0^1 \\frac{\\partial^2 u}{\\partial^2 x} v \\, dx = \\int_0^1 \\frac{\\partial u}{\\partial x} \\frac{\\partial v}{\\partial x} \\, dx - \\left( \\left.\\frac{\\partial u}{\\partial x}\\right|_{x=1}\\, v(1) - \\left.\\frac{\\partial u}{\\partial x}\\right|_{x=0}\\,v(0) \\right). $$\n",
    "\n",
    "Recalling that $v(0) = 0$ and $\\left.\\frac{\\partial u}{\\partial x}\\right|_{x=1} = g$ because of the boundary conditions, we finally write\n",
    "\n",
    "$$ \\int_0^1 \\frac{\\partial u}{\\partial x} \\frac{\\partial v}{\\partial x} \\, dx = g\\,v(1) + \\int_0^1 f\\,v \\, dx, \\quad \\forall v \\in V. $$\n",
    "\n",
    "To obtain the finite element discretization we then consider a finite dimensional subspace $V_h \\subset V$ and we find $u_h \\in V_h$ such that\n",
    "\n",
    "$$ \\int_0^1 \\frac{\\partial u_h}{\\partial x} \\frac{\\partial v_h}{\\partial x} \\, dx = g\\,v_h(1) + \\int_0^1 f\\,v_h \\, dx, \\quad \\forall v_h \\in V_h. $$\n",
    "\n",
    "Below we solve the problem using FEniCS for the choice $f(x) = 2$, $g = -1$. The analytical solution is $u_{ex} = x - x^2$"
   ]
  },
  {
   "cell_type": "code",
   "execution_count": null,
   "metadata": {
    "collapsed": true
   },
   "outputs": [],
   "source": [
    "#1. Imports\n",
    "from dolfin import *\n",
    "import matplotlib.pyplot as plt\n",
    "%matplotlib inline\n",
    "import math\n",
    "\n",
    "#2. Define the mesh and the finite element space\n",
    "n = 20\n",
    "mesh = UnitIntervalMesh(n)\n",
    "Vh = FunctionSpace(mesh, 'CG', 1)\n",
    "print \"Number of dofs\", Vh.dim()\n",
    "\n",
    "#3. Define the right hand side f and the non-homogeneus Neumann condition g\n",
    "f = Constant(2.)\n",
    "g = Constant(-1.)\n",
    "\n",
    "#4. Define the Dirichlet boundary condition\n",
    "u_bc = Constant(0.)\n",
    "def dirichlet_boundary(x,on_boundary):\n",
    "    return on_boundary and near(x[0], 0)\n",
    "bcs = [DirichletBC(Vh, u_bc, dirichlet_boundary)]\n",
    "\n",
    "#5. Define the weak form\n",
    "uh = TrialFunction(Vh)\n",
    "vh = TestFunction(Vh)\n",
    "\n",
    "A_form = inner(grad(uh), grad(vh))*dx\n",
    "b_form = inner(Constant(-1.), vh)*ds + inner(f,vh)*dx  \n",
    "\n",
    "#6. Assemble and solve the finite element discrete problem\n",
    "A, b = assemble_system(A_form, b_form, bcs)\n",
    "uh = Function(Vh)\n",
    "solve(A, uh.vector(), b)\n",
    "plt.figure()\n",
    "plot(uh, title = \"Solution\")\n",
    "\n",
    "#7. Compute error norms\n",
    "u_ex = Expression(\"x[0] - x[0]*x[0]\", degree = 2)\n",
    "err_L2 = math.sqrt( assemble((uh-u_ex)**2*dx) ) \n",
    "print \"|| u_h - u_ex ||_L^2 = {0:5e}\".format(err_L2)\n",
    "\n",
    "grad_u_ex = Expression(\"1. - 2.*x[0]\", degree = 1)\n",
    "err_energy =math.sqrt( assemble((grad(uh)[0]-grad_u_ex)**2*dx) )\n",
    "print \"|| u_h - u_ex ||_e = {0:5e}\".format(err_energy)"
   ]
  }
 ],
 "metadata": {
  "kernelspec": {
   "display_name": "Python 2",
   "language": "python",
   "name": "python2"
  },
  "language_info": {
   "codemirror_mode": {
    "name": "ipython",
    "version": 2
   },
   "file_extension": ".py",
   "mimetype": "text/x-python",
   "name": "python",
   "nbconvert_exporter": "python",
   "pygments_lexer": "ipython2",
   "version": "2.7.12"
  }
 },
 "nbformat": 4,
 "nbformat_minor": 1
}
