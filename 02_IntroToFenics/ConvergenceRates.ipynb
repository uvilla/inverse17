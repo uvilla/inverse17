{
 "cells": [
  {
   "cell_type": "markdown",
   "metadata": {},
   "source": [
    "# Convergence rates (1D Poisson equation)\n",
    "\n",
    "In this notebook we numerically verify the theoretical converge rates of the finite element discretization of an elliptic problem.\n",
    "\n",
    "More specifically, we consider the Poisson equation\n",
    "$$ - \\frac{\\partial^2 u}{\\partial^2 x} = f(x)  \\quad \\forall x \\in (0,1), $$\n",
    "with homegeneuos Dirichlet boundary conditions $u(0) = u(1) = 0$ and forcing term $f(x) = \\sin(5 \\pi x)$.\n",
    "The analytical solution is $u_{\\rm ex} = \\frac{1}{(5\\pi)^2} \\sin(5\\pi x)$.\n",
    "\n",
    "To obtain the weak form, we let $\\Omega = (0,1)$ and we define the functional space $V = H^1_0(\\Omega)$.\n",
    "Then, the weak formulation of the boundary value problem reads\n",
    "\n",
    "$$ \\int_0^1 \\frac{\\partial u}{\\partial x} \\frac{\\partial v}{\\partial x} \\, dx = \\int_0^1 f\\,v \\, dx, \\quad \\forall v \\in V. $$\n",
    "\n",
    "Finally, to obtain the finite element discretization we introduce a uniform triangulation (mesh) $\\mathcal{T}_h$ of the domain $\\Omega$ and finite dimensional subspace $V_h \\subset V$. \n",
    "$V_h$ consists of globally continuous functions that are piecewise polynomial with degree $k$ on each element $\\tau$ of the mesh $\\mathcal{T}_h$, that is\n",
    "$$ V_h := \\left\\{ v_h \\in V \\; | \\; \\left. v_h \\right|_{\\tau} \\in P^{k} \\quad  \\forall \\tau \\in \\mathcal{T}_h \\right\\},$$\n",
    "where $P^{k}$ denotes the space of polynomial function with degree $k$.\n",
    "\n",
    "Using the abouve notation, the finite element discretization of the BVP reads:\n",
    "\n",
    "Find $u_h \\in V_h$ such that\n",
    "$$ \\int_0^1 \\frac{\\partial u_h}{\\partial x} \\frac{\\partial v_h}{\\partial x} \\, dx = \\int_0^1 f\\,v_h \\, dx, \\quad \\forall v_h \\in V_h.$$"
   ]
  },
  {
   "cell_type": "markdown",
   "metadata": {},
   "source": [
    "## Finite element error estimates\n",
    "\n",
    "Assuming that the analytical solution is regular enough (i.e. $u_{\\rm ex} \\in H^{k+1}$), the following error estimates hold\n",
    "\n",
    "- Energy norm:\n",
    "$$ \\left\\| u_{\\rm ex} - u_h \\right\\|_{\\rm energy} := \\left( \\int_0^1 \\left|\\frac{du_{\\rm ex}}{dx} - \\frac{du_{h}}{dx}\\right|^2 dx \\right)^{\\frac{1}{2}} = \\mathcal{O}(h^k), $$\n",
    "\n",
    "- $L^2(\\Omega)$ norm:\n",
    "$$ \\left\\| u_{\\rm ex} - u_h \\right\\|_{L^2} := \\left( \\int_0^1 \\left|u_{\\rm ex} - u_{h}\\right|^2 dx \\right)^{\\frac{1}{2}} = \\mathcal{O}(h^{k+1}), $$\n",
    "\n",
    "where $h$ denote the mesh size. For a uniform 1D mesh of the unit interval $h = \\frac{1}{n}$ where $n$ is the number of mesh elements."
   ]
  },
  {
   "cell_type": "markdown",
   "metadata": {},
   "source": [
    "## Step 1. Import modules"
   ]
  },
  {
   "cell_type": "code",
   "execution_count": null,
   "metadata": {},
   "outputs": [],
   "source": [
    "import matplotlib.pyplot as plt\n",
    "%matplotlib inline\n",
    "\n",
    "from dolfin import *\n",
    "import numpy as np\n",
    "\n",
    "import logging\n",
    "logging.getLogger('FFC').setLevel(logging.WARNING)\n",
    "logging.getLogger('UFL').setLevel(logging.WARNING)\n",
    "set_log_active(False)"
   ]
  },
  {
   "cell_type": "markdown",
   "metadata": {},
   "source": [
    "## Step 2. Finite element solution of the BVP\n",
    "\n",
    "Here we implement a function `solveBVP` that computes the finite element discretizions and solves the discretized problem.\n",
    "\n",
    "As input, it takes the number of mesh elements `n` and the polynomial degree `degree`. As output, it returns the errors in the $L^2$ and energy norm."
   ]
  },
  {
   "cell_type": "code",
   "execution_count": null,
   "metadata": {
    "collapsed": true
   },
   "outputs": [],
   "source": [
    "def solveBVP(n, degree):\n",
    "    # 1. Mesh and finite element space\n",
    "    mesh = UnitIntervalMesh(n)\n",
    "    Vh = FunctionSpace(mesh, 'CG', degree)\n",
    "\n",
    "    # 2. Define the right hand side f\n",
    "    f = Expression(\"sin(omega*x[0])\", omega = 5*pi, degree = 5)\n",
    "    \n",
    "    # 3. Define the Dirichlet boundary condition\n",
    "    u_bc = Constant(0.)\n",
    "    def dirichlet_boundary(x,on_boundary):\n",
    "        return on_boundary\n",
    "    bcs = [DirichletBC(Vh, u_bc, dirichlet_boundary)]\n",
    "\n",
    "    # 4. Define the weak form\n",
    "    uh = TrialFunction(Vh)\n",
    "    vh = TestFunction(Vh)\n",
    "    A_form = inner(grad(uh), grad(vh))*dx\n",
    "    b_form = inner(f,vh)*dx\n",
    "\n",
    "    # 5. Assemble and solve the finite element discrete problem\n",
    "    A, b = assemble_system(A_form, b_form, bcs)\n",
    "    uh = Function(Vh)\n",
    "    solve(A, uh.vector(), b, \"cg\", \"petsc_amg\")\n",
    "\n",
    "    # 6. Compute error norms\n",
    "    u_ex = Expression(\"(1./(omega*omega))*sin(omega*x[0])\", omega = 5*pi, degree = 5)\n",
    "    err_L2 = np.sqrt( assemble((uh-u_ex)**2*dx) ) \n",
    "\n",
    "    grad_u_ex = Expression( \"(1./(omega))*cos(omega*x[0])\" , omega = 5*pi, degree = 5)\n",
    "    err_energy = np.sqrt( assemble((grad(uh)[0]-grad_u_ex)**2*dx) )\n",
    "    \n",
    "    return err_L2, err_energy"
   ]
  },
  {
   "cell_type": "markdown",
   "metadata": {},
   "source": [
    "## Step 3. Generate the converges plots\n",
    "\n",
    "The function `make_convergence_plot` generates the converges plots.\n",
    "\n",
    "It takes as input a `numpy.array n` that contains a sequence of number of mesh elements and the polynomial degree `degree` of the finite element space.\n",
    "\n",
    "It plots the energy norm of the error (in red) and the $L^2$ norm of the error (in blue) in a loglog scale. The $x$-axis is the mesh size $h$.\n",
    "\n",
    "The slope of the lines in the loglog scale represents the order of converge and dotted lines represents the expected convergence rate."
   ]
  },
  {
   "cell_type": "code",
   "execution_count": null,
   "metadata": {
    "collapsed": true
   },
   "outputs": [],
   "source": [
    "def make_convergence_plot(n, degree):\n",
    "    errs_L2 = np.zeros(n.shape)\n",
    "    errs_En = np.zeros(n.shape)\n",
    "    \n",
    "    for i in np.arange(n.shape[0]):\n",
    "        print i, \": Solving problem on a mesh with\", n[i], \" elements.\"\n",
    "        eL2, eE = solveBVP(n[i], degree)\n",
    "        errs_L2[i] = eL2\n",
    "        errs_En[i] = eE\n",
    "        \n",
    "    h = np.ones(n.shape)/n\n",
    "    plt.loglog(h, errs_L2, '-*b', label='L2')\n",
    "    plt.loglog(h, errs_En, '-*r', label='Energy')\n",
    "    plt.loglog(h, .7*np.power(h,degree+1)*errs_L2[0]/np.power(h[0],degree+1), '--b', label = 'order {0}'.format(degree+1))\n",
    "    plt.loglog(h, .7*np.power(h,degree)*errs_En[0]/np.power(h[0],degree), '--r', label = 'order {0}'.format(degree))\n",
    "    plt.legend()\n",
    "    plt.grid()\n",
    "    plt.show()\n",
    "    "
   ]
  },
  {
   "cell_type": "markdown",
   "metadata": {},
   "source": [
    "## Converges rate of piecewise linear finite element (k=1)"
   ]
  },
  {
   "cell_type": "code",
   "execution_count": null,
   "metadata": {},
   "outputs": [],
   "source": [
    "degree = 1\n",
    "n = np.power(2, np.arange(2,7)) # n = [2^2, 2^3, 2^4 2^5, 2^6]\n",
    "make_convergence_plot(n, degree)"
   ]
  },
  {
   "cell_type": "markdown",
   "metadata": {},
   "source": [
    "## Converges rate of piecewise quadratic finite element (k=2)"
   ]
  },
  {
   "cell_type": "code",
   "execution_count": null,
   "metadata": {},
   "outputs": [],
   "source": [
    "degree = 2\n",
    "make_convergence_plot(n, degree)"
   ]
  }
 ],
 "metadata": {
  "kernelspec": {
   "display_name": "Python 2",
   "language": "python",
   "name": "python2"
  },
  "language_info": {
   "codemirror_mode": {
    "name": "ipython",
    "version": 2
   },
   "file_extension": ".py",
   "mimetype": "text/x-python",
   "name": "python",
   "nbconvert_exporter": "python",
   "pygments_lexer": "ipython2",
   "version": "2.7.12"
  }
 },
 "nbformat": 4,
 "nbformat_minor": 1
}
